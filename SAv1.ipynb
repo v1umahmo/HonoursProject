{
  "nbformat": 4,
  "nbformat_minor": 0,
  "metadata": {
    "colab": {
      "name": "SAv1.ipynb",
      "provenance": [],
      "collapsed_sections": [],
      "authorship_tag": "ABX9TyNkmnlbeajz2Dk4dvbi2oJN",
      "include_colab_link": true
    },
    "kernelspec": {
      "name": "python3",
      "display_name": "Python 3"
    },
    "language_info": {
      "name": "python"
    }
  },
  "cells": [
    {
      "cell_type": "markdown",
      "metadata": {
        "id": "view-in-github",
        "colab_type": "text"
      },
      "source": [
        "<a href=\"https://colab.research.google.com/github/v1umahmo/HonoursProject/blob/main/SAv1.ipynb\" target=\"_parent\"><img src=\"https://colab.research.google.com/assets/colab-badge.svg\" alt=\"Open In Colab\"/></a>"
      ]
    },
    {
      "cell_type": "markdown",
      "source": [
        "Import Necessary libraries"
      ],
      "metadata": {
        "id": "deF2KAUmIKwG"
      }
    },
    {
      "cell_type": "code",
      "execution_count": null,
      "metadata": {
        "id": "4pXsCd0hHZPq"
      },
      "outputs": [],
      "source": [
        "import sklearn\n",
        "import numpy as np\n",
        "import pandas as pd"
      ]
    },
    {
      "cell_type": "markdown",
      "source": [
        "Import the training and testing data"
      ],
      "metadata": {
        "id": "U4TrZkaLIXhV"
      }
    },
    {
      "cell_type": "code",
      "source": [
        "training = pd.read_csv(\"\")\n",
        "testing = pd.read_csv(\"\")"
      ],
      "metadata": {
        "id": "-U-beh9FIcdJ"
      },
      "execution_count": null,
      "outputs": []
    },
    {
      "cell_type": "markdown",
      "source": [
        "Explore the Data"
      ],
      "metadata": {
        "id": "I5gTd1ZiJkJ5"
      }
    },
    {
      "cell_type": "code",
      "source": [
        "training.head"
      ],
      "metadata": {
        "id": "4TnTqLIqJmnH"
      },
      "execution_count": null,
      "outputs": []
    },
    {
      "cell_type": "code",
      "source": [
        "training.tail"
      ],
      "metadata": {
        "id": "cNoFTX48Jqps"
      },
      "execution_count": null,
      "outputs": []
    },
    {
      "cell_type": "code",
      "source": [
        "testing.head"
      ],
      "metadata": {
        "id": "X8B8-QblJv0h"
      },
      "execution_count": null,
      "outputs": []
    },
    {
      "cell_type": "code",
      "source": [
        "testing.tail"
      ],
      "metadata": {
        "id": "kkOsLksMJx10"
      },
      "execution_count": null,
      "outputs": []
    },
    {
      "cell_type": "code",
      "source": [
        "sum(training[\"label\"] == 0)"
      ],
      "metadata": {
        "id": "evQ6hQjfJ10V"
      },
      "execution_count": null,
      "outputs": []
    },
    {
      "cell_type": "code",
      "source": [
        "sum(training[\"label\"] == 1)"
      ],
      "metadata": {
        "id": "x3Xdcb_mKCkx"
      },
      "execution_count": null,
      "outputs": []
    },
    {
      "cell_type": "code",
      "source": [
        "training.isnull().sum()"
      ],
      "metadata": {
        "id": "s2H8zzOsKGa7"
      },
      "execution_count": null,
      "outputs": []
    },
    {
      "cell_type": "markdown",
      "source": [
        "Clean the Data"
      ],
      "metadata": {
        "id": "OZLzyFTNKnNT"
      }
    },
    {
      "cell_type": "code",
      "source": [
        "!pip install tweet-preprocessor"
      ],
      "metadata": {
        "id": "ZcLsECWMKpDH"
      },
      "execution_count": null,
      "outputs": []
    },
    {
      "cell_type": "code",
      "source": [
        "import re\n",
        "\n",
        "replace_no_space = re.compile\n",
        "replace_with_space = re.compile"
      ],
      "metadata": {
        "id": "BhYF-h8nLj1g"
      },
      "execution_count": null,
      "outputs": []
    },
    {
      "cell_type": "code",
      "source": [
        "import preprocessor as p\n",
        "\n",
        "def clean_tweets(df):\n",
        "  tempArr =  []\n",
        "  for line in df:\n",
        "    tmpL = p.clean(line)\n",
        "    tmpL = replace_no_space(\" \", tmpL.lower())\n",
        "    tmpL = replace_with_space.sub(\" \", tmpL)\n",
        "    tempArr.append(tmpL)\n",
        "  return tempArr"
      ],
      "metadata": {
        "id": "_-d56AZBMtQc"
      },
      "execution_count": null,
      "outputs": []
    },
    {
      "cell_type": "code",
      "source": [
        "training_tweet = clean_tweets(training[\"tweet\"])\n",
        "training_tweet = pd.DataFrame(training_tweet)"
      ],
      "metadata": {
        "id": "qXVPh0mAOKnG"
      },
      "execution_count": null,
      "outputs": []
    },
    {
      "cell_type": "code",
      "source": [
        "training[\"clean_tweets\"] = training_tweet\n",
        "training.head(20)"
      ],
      "metadata": {
        "id": "vc88yoUwOvVI"
      },
      "execution_count": null,
      "outputs": []
    },
    {
      "cell_type": "code",
      "source": [
        "testing_tweet = clean_tweets(testing[\"tweet\"])\n",
        "testing_tweet = pd.DataFrame(testing_tweet)\n",
        "testing[\"clean_tweet\"] = testing_tweet\n",
        "testing.tail(20)\n"
      ],
      "metadata": {
        "id": "WajZSQ35Pjek"
      },
      "execution_count": null,
      "outputs": []
    },
    {
      "cell_type": "markdown",
      "source": [
        "Test & Train Split"
      ],
      "metadata": {
        "id": "bxhhxdt7QAAT"
      }
    },
    {
      "cell_type": "code",
      "source": [
        "from sklearn.model_selection import training_testing_split\n",
        "y = training.label.values\n",
        "x_training, x_testing, y_training, y_testing = training_testing_split(training.clean_tweet.values, y, \n",
        "                                                    stratify=y, \n",
        "                                                    random_state=1, \n",
        "                                                    test_size=0.4, shuffle=True)"
      ],
      "metadata": {
        "id": "98vROAKtU-_b"
      },
      "execution_count": null,
      "outputs": []
    },
    {
      "cell_type": "markdown",
      "source": [
        "Text Representation using Count Vectorizer"
      ],
      "metadata": {
        "id": "llcYxagglWD_"
      }
    },
    {
      "cell_type": "code",
      "source": [
        "from numpy.lib.function_base import vectorize\n",
        "from sklearn.feature_extraction.text import CountVectorizer\n",
        "\n",
        "document = [\"This is a prototype for the Honours Project\",\n",
        "            \"Hopefully this works, and is good\",\n",
        "            \"It is also fun to do\"]\n",
        "vectorizer = CountVectorizer()\n",
        "document_term_matrix = vectorizer.fit_transform(document)\n",
        "pd.DataFrame (document_term_matrix.toarray(), columns = vectorizer.get_feature_names())"
      ],
      "metadata": {
        "id": "XIG_H_m1mRxt"
      },
      "execution_count": null,
      "outputs": []
    },
    {
      "cell_type": "code",
      "source": [
        "from sklearn.feature_extraction.text import CountVectorizer\n",
        "\n",
        "vectorizer = CountVectorizer(binary=True, stop_words = 'english')\n",
        "vectorizer.fit(list(x_training) + list(x_testing))\n",
        "\n",
        "x_training_vectorizer = vectorizer.transform(x_training)\n",
        "x_testing_vectorizer = vectorizer.transform(x_testing)"
      ],
      "metadata": {
        "id": "nV_6BA3ln8iN"
      },
      "execution_count": null,
      "outputs": []
    },
    {
      "cell_type": "markdown",
      "source": [
        "Use Support Vector Machine"
      ],
      "metadata": {
        "id": "7HuP7e9Mqmiy"
      }
    },
    {
      "cell_type": "code",
      "source": [
        "from sklearn import svm\n",
        "svm = svm.SVC(kernel = 'linear', probability=True)\n",
        "probabil = svm.fit(x_training_vectorizer, y_training).predict_proba(x_testing_vectorizer)\n",
        "y_predict_svm = svm.predict(x_testing_vectorizer)"
      ],
      "metadata": {
        "id": "snDuCJhlqprJ"
      },
      "execution_count": null,
      "outputs": []
    },
    {
      "cell_type": "markdown",
      "source": [
        "Accuracy Score"
      ],
      "metadata": {
        "id": "1iVzFzMWrkLg"
      }
    },
    {
      "cell_type": "code",
      "source": [
        "from sklearn.metrics import accuracy_score\n",
        "print(\"The accuracy score for SVM is\", accuracy_score(y_testing, y_predict_svm) * 100, '%')"
      ],
      "metadata": {
        "id": "XikhcXMjrm_4"
      },
      "execution_count": null,
      "outputs": []
    }
  ]
}