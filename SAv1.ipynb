{
  "nbformat": 4,
  "nbformat_minor": 0,
  "metadata": {
    "colab": {
      "name": "SAv1.ipynb",
      "provenance": [],
      "authorship_tag": "ABX9TyMs8AxdMjiHFdYS6uczGRbu",
      "include_colab_link": true
    },
    "kernelspec": {
      "name": "python3",
      "display_name": "Python 3"
    },
    "language_info": {
      "name": "python"
    }
  },
  "cells": [
    {
      "cell_type": "markdown",
      "metadata": {
        "id": "view-in-github",
        "colab_type": "text"
      },
      "source": [
        "<a href=\"https://colab.research.google.com/github/v1umahmo/HonoursProject/blob/main/SAv1.ipynb\" target=\"_parent\"><img src=\"https://colab.research.google.com/assets/colab-badge.svg\" alt=\"Open In Colab\"/></a>"
      ]
    },
    {
      "cell_type": "markdown",
      "source": [
        "Import Necessary libraries"
      ],
      "metadata": {
        "id": "deF2KAUmIKwG"
      }
    },
    {
      "cell_type": "code",
      "execution_count": null,
      "metadata": {
        "id": "4pXsCd0hHZPq"
      },
      "outputs": [],
      "source": [
        "import sklearn\n",
        "import numpy as np\n",
        "import pandas as pd"
      ]
    },
    {
      "cell_type": "markdown",
      "source": [
        "Import the training and testing data"
      ],
      "metadata": {
        "id": "U4TrZkaLIXhV"
      }
    },
    {
      "cell_type": "code",
      "source": [
        "training = pd.read_csv(\"\")\n",
        "testing = pd.read_csv(\"\")"
      ],
      "metadata": {
        "id": "-U-beh9FIcdJ"
      },
      "execution_count": null,
      "outputs": []
    },
    {
      "cell_type": "markdown",
      "source": [
        "Explore the Data"
      ],
      "metadata": {
        "id": "I5gTd1ZiJkJ5"
      }
    },
    {
      "cell_type": "code",
      "source": [
        "training.head"
      ],
      "metadata": {
        "id": "4TnTqLIqJmnH"
      },
      "execution_count": null,
      "outputs": []
    },
    {
      "cell_type": "code",
      "source": [
        "training.tail"
      ],
      "metadata": {
        "id": "cNoFTX48Jqps"
      },
      "execution_count": null,
      "outputs": []
    },
    {
      "cell_type": "code",
      "source": [
        "testing.head"
      ],
      "metadata": {
        "id": "X8B8-QblJv0h"
      },
      "execution_count": null,
      "outputs": []
    },
    {
      "cell_type": "code",
      "source": [
        "testing.tail"
      ],
      "metadata": {
        "id": "kkOsLksMJx10"
      },
      "execution_count": null,
      "outputs": []
    },
    {
      "cell_type": "code",
      "source": [
        "sum(training[\"label\"] == 0)"
      ],
      "metadata": {
        "id": "evQ6hQjfJ10V"
      },
      "execution_count": null,
      "outputs": []
    },
    {
      "cell_type": "code",
      "source": [
        "sum(training[\"label\"] == 1)"
      ],
      "metadata": {
        "id": "x3Xdcb_mKCkx"
      },
      "execution_count": null,
      "outputs": []
    },
    {
      "cell_type": "code",
      "source": [
        "training.isnull().sum()"
      ],
      "metadata": {
        "id": "s2H8zzOsKGa7"
      },
      "execution_count": null,
      "outputs": []
    },
    {
      "cell_type": "markdown",
      "source": [
        "Clean the Data"
      ],
      "metadata": {
        "id": "OZLzyFTNKnNT"
      }
    },
    {
      "cell_type": "code",
      "source": [
        ""
      ],
      "metadata": {
        "id": "ZcLsECWMKpDH"
      },
      "execution_count": null,
      "outputs": []
    }
  ]
}